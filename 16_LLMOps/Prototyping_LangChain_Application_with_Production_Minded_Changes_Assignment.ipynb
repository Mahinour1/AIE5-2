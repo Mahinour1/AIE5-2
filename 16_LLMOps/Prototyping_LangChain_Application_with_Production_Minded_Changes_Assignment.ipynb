{
  "nbformat": 4,
  "nbformat_minor": 0,
  "metadata": {
    "colab": {
      "provenance": [],
      "machine_shape": "hm",
      "gpuType": "T4"
    },
    "kernelspec": {
      "name": "python3",
      "display_name": "Python 3"
    },
    "language_info": {
      "name": "python"
    },
    "accelerator": "GPU"
  },
  "cells": [
    {
      "cell_type": "markdown",
      "source": [
        "# Prototyping LangChain Application with Production Minded Changes\n",
        "\n",
        "For our first breakout room we'll be exploring how to set-up a LangChain LCEL chain in a way that takes advantage of all of the amazing out of the box production ready features it offers.\n",
        "\n",
        "We'll also explore `Caching` and what makes it an invaluable tool when transitioning to production environments.\n",
        "\n",
        "🤝 BREAKOUT ROOM #1:\n",
        "  - Task 1: Depends and Set-Up\n",
        "  - Task 2: Setting up RAG With Production in Mind\n",
        "  - Task 3: RAG LCEL Chain\n",
        "\n"
      ],
      "metadata": {
        "id": "8ZsP-j7w3zcL"
      }
    },
    {
      "cell_type": "markdown",
      "source": [
        "## Task 1: Depends and Set-Up\n",
        "\n",
        "Let's get everything we need - we're going to use very specific versioning today to try to mitigate potential env. issues!\n",
        "\n",
        "> NOTE: Dependency issues are a large portion of what you're going to be tackling as you integrate new technology into your work - please keep in mind that one of the things you should be passively learning throughout this course is ways to mitigate dependency issues."
      ],
      "metadata": {
        "id": "PpeN9ND0HKa0"
      }
    },
    {
      "cell_type": "code",
      "execution_count": 1,
      "metadata": {
        "id": "0P4IJUQF27jW",
        "colab": {
          "base_uri": "https://localhost:8080/"
        },
        "outputId": "5d5829c1-c522-4132-f80d-5b1982d64055"
      },
      "outputs": [
        {
          "output_type": "stream",
          "name": "stdout",
          "text": [
            "\u001b[?25l   \u001b[90m━━━━━━━━━━━━━━━━━━━━━━━━━━━━━━━━━━━━━━━━\u001b[0m \u001b[32m0.0/51.5 kB\u001b[0m \u001b[31m?\u001b[0m eta \u001b[36m-:--:--\u001b[0m\r\u001b[2K   \u001b[90m━━━━━━━━━━━━━━━━━━━━━━━━━━━━━━━━━━━━━━━━\u001b[0m \u001b[32m51.5/51.5 kB\u001b[0m \u001b[31m4.2 MB/s\u001b[0m eta \u001b[36m0:00:00\u001b[0m\n",
            "\u001b[?25h\u001b[?25l   \u001b[90m━━━━━━━━━━━━━━━━━━━━━━━━━━━━━━━━━━━━━━━━\u001b[0m \u001b[32m0.0/2.3 MB\u001b[0m \u001b[31m?\u001b[0m eta \u001b[36m-:--:--\u001b[0m\r\u001b[2K   \u001b[91m━━━━━━━━━━━━━━━━━━━━━━━━━━━━━━━━━━━━━\u001b[0m\u001b[90m╺\u001b[0m\u001b[90m━━\u001b[0m \u001b[32m2.2/2.3 MB\u001b[0m \u001b[31m65.3 MB/s\u001b[0m eta \u001b[36m0:00:01\u001b[0m\r\u001b[2K   \u001b[90m━━━━━━━━━━━━━━━━━━━━━━━━━━━━━━━━━━━━━━━━\u001b[0m \u001b[32m2.3/2.3 MB\u001b[0m \u001b[31m44.6 MB/s\u001b[0m eta \u001b[36m0:00:00\u001b[0m\n",
            "\u001b[2K   \u001b[90m━━━━━━━━━━━━━━━━━━━━━━━━━━━━━━━━━━━━━━━━\u001b[0m \u001b[32m1.0/1.0 MB\u001b[0m \u001b[31m57.8 MB/s\u001b[0m eta \u001b[36m0:00:00\u001b[0m\n",
            "\u001b[2K   \u001b[90m━━━━━━━━━━━━━━━━━━━━━━━━━━━━━━━━━━━━━━━━\u001b[0m \u001b[32m3.5/3.5 MB\u001b[0m \u001b[31m96.9 MB/s\u001b[0m eta \u001b[36m0:00:00\u001b[0m\n",
            "\u001b[2K   \u001b[90m━━━━━━━━━━━━━━━━━━━━━━━━━━━━━━━━━━━━━━━━\u001b[0m \u001b[32m258.9/258.9 kB\u001b[0m \u001b[31m22.2 MB/s\u001b[0m eta \u001b[36m0:00:00\u001b[0m\n",
            "\u001b[2K   \u001b[90m━━━━━━━━━━━━━━━━━━━━━━━━━━━━━━━━━━━━━━━━\u001b[0m \u001b[32m289.9/289.9 kB\u001b[0m \u001b[31m23.8 MB/s\u001b[0m eta \u001b[36m0:00:00\u001b[0m\n",
            "\u001b[2K   \u001b[90m━━━━━━━━━━━━━━━━━━━━━━━━━━━━━━━━━━━━━━━━\u001b[0m \u001b[32m450.5/450.5 kB\u001b[0m \u001b[31m32.9 MB/s\u001b[0m eta \u001b[36m0:00:00\u001b[0m\n",
            "\u001b[2K   \u001b[90m━━━━━━━━━━━━━━━━━━━━━━━━━━━━━━━━━━━━━━━━\u001b[0m \u001b[32m15.9/15.9 MB\u001b[0m \u001b[31m46.5 MB/s\u001b[0m eta \u001b[36m0:00:00\u001b[0m\n",
            "\u001b[2K   \u001b[90m━━━━━━━━━━━━━━━━━━━━━━━━━━━━━━━━━━━━━━━━\u001b[0m \u001b[32m399.7/399.7 kB\u001b[0m \u001b[31m29.3 MB/s\u001b[0m eta \u001b[36m0:00:00\u001b[0m\n",
            "\u001b[2K   \u001b[90m━━━━━━━━━━━━━━━━━━━━━━━━━━━━━━━━━━━━━━━━\u001b[0m \u001b[32m2.5/2.5 MB\u001b[0m \u001b[31m90.3 MB/s\u001b[0m eta \u001b[36m0:00:00\u001b[0m\n",
            "\u001b[2K   \u001b[90m━━━━━━━━━━━━━━━━━━━━━━━━━━━━━━━━━━━━━━━━\u001b[0m \u001b[32m5.9/5.9 MB\u001b[0m \u001b[31m113.8 MB/s\u001b[0m eta \u001b[36m0:00:00\u001b[0m\n",
            "\u001b[2K   \u001b[90m━━━━━━━━━━━━━━━━━━━━━━━━━━━━━━━━━━━━━━━━\u001b[0m \u001b[32m1.2/1.2 MB\u001b[0m \u001b[31m65.1 MB/s\u001b[0m eta \u001b[36m0:00:00\u001b[0m\n",
            "\u001b[2K   \u001b[90m━━━━━━━━━━━━━━━━━━━━━━━━━━━━━━━━━━━━━━━━\u001b[0m \u001b[32m50.9/50.9 kB\u001b[0m \u001b[31m4.4 MB/s\u001b[0m eta \u001b[36m0:00:00\u001b[0m\n",
            "\u001b[2K   \u001b[90m━━━━━━━━━━━━━━━━━━━━━━━━━━━━━━━━━━━━━━━━\u001b[0m \u001b[32m319.7/319.7 kB\u001b[0m \u001b[31m25.0 MB/s\u001b[0m eta \u001b[36m0:00:00\u001b[0m\n",
            "\u001b[2K   \u001b[90m━━━━━━━━━━━━━━━━━━━━━━━━━━━━━━━━━━━━━━━━\u001b[0m \u001b[32m363.4/363.4 MB\u001b[0m \u001b[31m3.5 MB/s\u001b[0m eta \u001b[36m0:00:00\u001b[0m\n",
            "\u001b[2K   \u001b[90m━━━━━━━━━━━━━━━━━━━━━━━━━━━━━━━━━━━━━━━━\u001b[0m \u001b[32m13.8/13.8 MB\u001b[0m \u001b[31m69.2 MB/s\u001b[0m eta \u001b[36m0:00:00\u001b[0m\n",
            "\u001b[2K   \u001b[90m━━━━━━━━━━━━━━━━━━━━━━━━━━━━━━━━━━━━━━━━\u001b[0m \u001b[32m24.6/24.6 MB\u001b[0m \u001b[31m25.5 MB/s\u001b[0m eta \u001b[36m0:00:00\u001b[0m\n",
            "\u001b[2K   \u001b[90m━━━━━━━━━━━━━━━━━━━━━━━━━━━━━━━━━━━━━━━━\u001b[0m \u001b[32m883.7/883.7 kB\u001b[0m \u001b[31m32.7 MB/s\u001b[0m eta \u001b[36m0:00:00\u001b[0m\n",
            "\u001b[2K   \u001b[90m━━━━━━━━━━━━━━━━━━━━━━━━━━━━━━━━━━━━━━━━\u001b[0m \u001b[32m664.8/664.8 MB\u001b[0m \u001b[31m2.4 MB/s\u001b[0m eta \u001b[36m0:00:00\u001b[0m\n",
            "\u001b[2K   \u001b[90m━━━━━━━━━━━━━━━━━━━━━━━━━━━━━━━━━━━━━━━━\u001b[0m \u001b[32m211.5/211.5 MB\u001b[0m \u001b[31m4.9 MB/s\u001b[0m eta \u001b[36m0:00:00\u001b[0m\n",
            "\u001b[2K   \u001b[90m━━━━━━━━━━━━━━━━━━━━━━━━━━━━━━━━━━━━━━━━\u001b[0m \u001b[32m56.3/56.3 MB\u001b[0m \u001b[31m15.0 MB/s\u001b[0m eta \u001b[36m0:00:00\u001b[0m\n",
            "\u001b[2K   \u001b[90m━━━━━━━━━━━━━━━━━━━━━━━━━━━━━━━━━━━━━━━━\u001b[0m \u001b[32m127.9/127.9 MB\u001b[0m \u001b[31m7.7 MB/s\u001b[0m eta \u001b[36m0:00:00\u001b[0m\n",
            "\u001b[2K   \u001b[90m━━━━━━━━━━━━━━━━━━━━━━━━━━━━━━━━━━━━━━━━\u001b[0m \u001b[32m207.5/207.5 MB\u001b[0m \u001b[31m5.5 MB/s\u001b[0m eta \u001b[36m0:00:00\u001b[0m\n",
            "\u001b[2K   \u001b[90m━━━━━━━━━━━━━━━━━━━━━━━━━━━━━━━━━━━━━━━━\u001b[0m \u001b[32m21.1/21.1 MB\u001b[0m \u001b[31m72.5 MB/s\u001b[0m eta \u001b[36m0:00:00\u001b[0m\n",
            "\u001b[?25h"
          ]
        }
      ],
      "source": [
        "!pip install -qU langchain_openai==0.2.0 langchain_community==0.3.0 langchain==0.3.0 pymupdf==1.24.10 qdrant-client==1.11.2 langchain_qdrant==0.1.4 langsmith==0.1.121 huggingface-hub==0.27.0 langchain-huggingface"
      ]
    },
    {
      "cell_type": "markdown",
      "source": [
        "We'll need an OpenAI API Key:"
      ],
      "metadata": {
        "id": "qYcWLzrmHgDb"
      }
    },
    {
      "cell_type": "code",
      "source": [
        "import os\n",
        "import getpass\n",
        "\n",
        "os.environ[\"OPENAI_API_KEY\"] = getpass.getpass(\"OpenAI API Key:\")"
      ],
      "metadata": {
        "colab": {
          "base_uri": "https://localhost:8080/"
        },
        "id": "GZ8qfrFh_6ed",
        "outputId": "436a653e-4feb-4e7c-9540-44258019dab7"
      },
      "execution_count": 3,
      "outputs": [
        {
          "name": "stdout",
          "output_type": "stream",
          "text": [
            "OpenAI API Key:··········\n"
          ]
        }
      ]
    },
    {
      "cell_type": "markdown",
      "source": [
        "#### HF key"
      ],
      "metadata": {
        "id": "OpgPy40-5c-Q"
      }
    },
    {
      "cell_type": "code",
      "source": [
        "import os\n",
        "import getpass\n",
        "\n",
        "os.environ[\"HF_TOKEN\"] = getpass.getpass(\"HuggingFace Write Token: \")"
      ],
      "metadata": {
        "colab": {
          "base_uri": "https://localhost:8080/"
        },
        "id": "RqUjYNVSyF_q",
        "outputId": "5ceb5214-de31-4925-8511-d74274518a2a"
      },
      "execution_count": 2,
      "outputs": [
        {
          "name": "stdout",
          "output_type": "stream",
          "text": [
            "HuggingFace Write Token: ··········\n"
          ]
        }
      ]
    },
    {
      "cell_type": "markdown",
      "source": [
        "And the LangSmith set-up:"
      ],
      "metadata": {
        "id": "piz2DUDuHiSO"
      }
    },
    {
      "cell_type": "code",
      "source": [
        "import uuid\n",
        "\n",
        "os.environ[\"LANGCHAIN_PROJECT\"] = f\"AIM Session 16 - {uuid.uuid4().hex[0:8]}\"\n",
        "os.environ[\"LANGCHAIN_TRACING_V2\"] = \"true\"\n",
        "os.environ[\"LANGCHAIN_API_KEY\"] = getpass.getpass(\"LangChain API Key:\")"
      ],
      "metadata": {
        "id": "wLZX5zowCh-q",
        "colab": {
          "base_uri": "https://localhost:8080/"
        },
        "outputId": "ec20667e-8b8b-48ae-87d7-d1955990d824"
      },
      "execution_count": 3,
      "outputs": [
        {
          "name": "stdout",
          "output_type": "stream",
          "text": [
            "LangChain API Key:··········\n"
          ]
        }
      ]
    },
    {
      "cell_type": "markdown",
      "source": [
        "Let's verify our project so we can leverage it in LangSmith later."
      ],
      "metadata": {
        "id": "WmwNTziKHrQm"
      }
    },
    {
      "cell_type": "code",
      "source": [
        "print(os.environ[\"LANGCHAIN_PROJECT\"])"
      ],
      "metadata": {
        "colab": {
          "base_uri": "https://localhost:8080/"
        },
        "id": "T6GZmkVkFcHq",
        "outputId": "26859c2d-7166-4db9-ec23-6124856964e7"
      },
      "execution_count": 4,
      "outputs": [
        {
          "output_type": "stream",
          "name": "stdout",
          "text": [
            "AIM Session 16 - f104f431\n"
          ]
        }
      ]
    },
    {
      "cell_type": "markdown",
      "source": [
        "## Task 2: Setting up RAG With Production in Mind\n",
        "\n",
        "This is the most crucial step in the process - in order to take advantage of:\n",
        "\n",
        "- Asyncronous requests\n",
        "- Parallel Execution in Chains\n",
        "- And more...\n",
        "\n",
        "You must...use LCEL. These benefits are provided out of the box and largely optimized behind the scenes."
      ],
      "metadata": {
        "id": "un_ppfaAHv1J"
      }
    },
    {
      "cell_type": "markdown",
      "source": [
        "### Building our RAG Components: Retriever\n",
        "\n",
        "We'll start by building some familiar components - and showcase how they automatically scale to production features."
      ],
      "metadata": {
        "id": "vGi-db23JMAL"
      }
    },
    {
      "cell_type": "markdown",
      "source": [
        "Please upload a PDF file to use in this example!\n",
        "\n",
        "⚠ If you're running in a non-Chrome browser - you may run into issues with this cell. Please upload the file using Colab's file upload - and indicate the `file_path` in the cell with `file_path`. ⚠\n",
        "\n",
        "![image](https://i.imgur.com/Qa1Uwlj.png)\n",
        "\n",
        "\n",
        "\n",
        "> NOTE: You can skip this step if you are running locally - please just point to your local file."
      ],
      "metadata": {
        "id": "zvbT3HSDJemE"
      }
    },
    {
      "cell_type": "code",
      "source": [
        "from google.colab import files\n",
        "uploaded = files.upload()"
      ],
      "metadata": {
        "colab": {
          "base_uri": "https://localhost:8080/",
          "height": 73
        },
        "id": "dvYczNeY91Hn",
        "outputId": "7d1d213e-8f77-4cc3-a668-0a4b9fccb78f"
      },
      "execution_count": 5,
      "outputs": [
        {
          "output_type": "display_data",
          "data": {
            "text/plain": [
              "<IPython.core.display.HTML object>"
            ],
            "text/html": [
              "\n",
              "     <input type=\"file\" id=\"files-16bdccea-5565-4a68-bb2d-89e57fee2d22\" name=\"files[]\" multiple disabled\n",
              "        style=\"border:none\" />\n",
              "     <output id=\"result-16bdccea-5565-4a68-bb2d-89e57fee2d22\">\n",
              "      Upload widget is only available when the cell has been executed in the\n",
              "      current browser session. Please rerun this cell to enable.\n",
              "      </output>\n",
              "      <script>// Copyright 2017 Google LLC\n",
              "//\n",
              "// Licensed under the Apache License, Version 2.0 (the \"License\");\n",
              "// you may not use this file except in compliance with the License.\n",
              "// You may obtain a copy of the License at\n",
              "//\n",
              "//      http://www.apache.org/licenses/LICENSE-2.0\n",
              "//\n",
              "// Unless required by applicable law or agreed to in writing, software\n",
              "// distributed under the License is distributed on an \"AS IS\" BASIS,\n",
              "// WITHOUT WARRANTIES OR CONDITIONS OF ANY KIND, either express or implied.\n",
              "// See the License for the specific language governing permissions and\n",
              "// limitations under the License.\n",
              "\n",
              "/**\n",
              " * @fileoverview Helpers for google.colab Python module.\n",
              " */\n",
              "(function(scope) {\n",
              "function span(text, styleAttributes = {}) {\n",
              "  const element = document.createElement('span');\n",
              "  element.textContent = text;\n",
              "  for (const key of Object.keys(styleAttributes)) {\n",
              "    element.style[key] = styleAttributes[key];\n",
              "  }\n",
              "  return element;\n",
              "}\n",
              "\n",
              "// Max number of bytes which will be uploaded at a time.\n",
              "const MAX_PAYLOAD_SIZE = 100 * 1024;\n",
              "\n",
              "function _uploadFiles(inputId, outputId) {\n",
              "  const steps = uploadFilesStep(inputId, outputId);\n",
              "  const outputElement = document.getElementById(outputId);\n",
              "  // Cache steps on the outputElement to make it available for the next call\n",
              "  // to uploadFilesContinue from Python.\n",
              "  outputElement.steps = steps;\n",
              "\n",
              "  return _uploadFilesContinue(outputId);\n",
              "}\n",
              "\n",
              "// This is roughly an async generator (not supported in the browser yet),\n",
              "// where there are multiple asynchronous steps and the Python side is going\n",
              "// to poll for completion of each step.\n",
              "// This uses a Promise to block the python side on completion of each step,\n",
              "// then passes the result of the previous step as the input to the next step.\n",
              "function _uploadFilesContinue(outputId) {\n",
              "  const outputElement = document.getElementById(outputId);\n",
              "  const steps = outputElement.steps;\n",
              "\n",
              "  const next = steps.next(outputElement.lastPromiseValue);\n",
              "  return Promise.resolve(next.value.promise).then((value) => {\n",
              "    // Cache the last promise value to make it available to the next\n",
              "    // step of the generator.\n",
              "    outputElement.lastPromiseValue = value;\n",
              "    return next.value.response;\n",
              "  });\n",
              "}\n",
              "\n",
              "/**\n",
              " * Generator function which is called between each async step of the upload\n",
              " * process.\n",
              " * @param {string} inputId Element ID of the input file picker element.\n",
              " * @param {string} outputId Element ID of the output display.\n",
              " * @return {!Iterable<!Object>} Iterable of next steps.\n",
              " */\n",
              "function* uploadFilesStep(inputId, outputId) {\n",
              "  const inputElement = document.getElementById(inputId);\n",
              "  inputElement.disabled = false;\n",
              "\n",
              "  const outputElement = document.getElementById(outputId);\n",
              "  outputElement.innerHTML = '';\n",
              "\n",
              "  const pickedPromise = new Promise((resolve) => {\n",
              "    inputElement.addEventListener('change', (e) => {\n",
              "      resolve(e.target.files);\n",
              "    });\n",
              "  });\n",
              "\n",
              "  const cancel = document.createElement('button');\n",
              "  inputElement.parentElement.appendChild(cancel);\n",
              "  cancel.textContent = 'Cancel upload';\n",
              "  const cancelPromise = new Promise((resolve) => {\n",
              "    cancel.onclick = () => {\n",
              "      resolve(null);\n",
              "    };\n",
              "  });\n",
              "\n",
              "  // Wait for the user to pick the files.\n",
              "  const files = yield {\n",
              "    promise: Promise.race([pickedPromise, cancelPromise]),\n",
              "    response: {\n",
              "      action: 'starting',\n",
              "    }\n",
              "  };\n",
              "\n",
              "  cancel.remove();\n",
              "\n",
              "  // Disable the input element since further picks are not allowed.\n",
              "  inputElement.disabled = true;\n",
              "\n",
              "  if (!files) {\n",
              "    return {\n",
              "      response: {\n",
              "        action: 'complete',\n",
              "      }\n",
              "    };\n",
              "  }\n",
              "\n",
              "  for (const file of files) {\n",
              "    const li = document.createElement('li');\n",
              "    li.append(span(file.name, {fontWeight: 'bold'}));\n",
              "    li.append(span(\n",
              "        `(${file.type || 'n/a'}) - ${file.size} bytes, ` +\n",
              "        `last modified: ${\n",
              "            file.lastModifiedDate ? file.lastModifiedDate.toLocaleDateString() :\n",
              "                                    'n/a'} - `));\n",
              "    const percent = span('0% done');\n",
              "    li.appendChild(percent);\n",
              "\n",
              "    outputElement.appendChild(li);\n",
              "\n",
              "    const fileDataPromise = new Promise((resolve) => {\n",
              "      const reader = new FileReader();\n",
              "      reader.onload = (e) => {\n",
              "        resolve(e.target.result);\n",
              "      };\n",
              "      reader.readAsArrayBuffer(file);\n",
              "    });\n",
              "    // Wait for the data to be ready.\n",
              "    let fileData = yield {\n",
              "      promise: fileDataPromise,\n",
              "      response: {\n",
              "        action: 'continue',\n",
              "      }\n",
              "    };\n",
              "\n",
              "    // Use a chunked sending to avoid message size limits. See b/62115660.\n",
              "    let position = 0;\n",
              "    do {\n",
              "      const length = Math.min(fileData.byteLength - position, MAX_PAYLOAD_SIZE);\n",
              "      const chunk = new Uint8Array(fileData, position, length);\n",
              "      position += length;\n",
              "\n",
              "      const base64 = btoa(String.fromCharCode.apply(null, chunk));\n",
              "      yield {\n",
              "        response: {\n",
              "          action: 'append',\n",
              "          file: file.name,\n",
              "          data: base64,\n",
              "        },\n",
              "      };\n",
              "\n",
              "      let percentDone = fileData.byteLength === 0 ?\n",
              "          100 :\n",
              "          Math.round((position / fileData.byteLength) * 100);\n",
              "      percent.textContent = `${percentDone}% done`;\n",
              "\n",
              "    } while (position < fileData.byteLength);\n",
              "  }\n",
              "\n",
              "  // All done.\n",
              "  yield {\n",
              "    response: {\n",
              "      action: 'complete',\n",
              "    }\n",
              "  };\n",
              "}\n",
              "\n",
              "scope.google = scope.google || {};\n",
              "scope.google.colab = scope.google.colab || {};\n",
              "scope.google.colab._files = {\n",
              "  _uploadFiles,\n",
              "  _uploadFilesContinue,\n",
              "};\n",
              "})(self);\n",
              "</script> "
            ]
          },
          "metadata": {}
        },
        {
          "output_type": "stream",
          "name": "stdout",
          "text": [
            "Saving DeepSeek_R1.pdf to DeepSeek_R1.pdf\n"
          ]
        }
      ]
    },
    {
      "cell_type": "code",
      "source": [
        "file_path = list(uploaded.keys())[0]\n",
        "file_path"
      ],
      "metadata": {
        "colab": {
          "base_uri": "https://localhost:8080/",
          "height": 35
        },
        "id": "NtwoVUbaJlbW",
        "outputId": "279c9dd5-e1c1-4690-d475-dc4e6acda865"
      },
      "execution_count": 6,
      "outputs": [
        {
          "output_type": "execute_result",
          "data": {
            "text/plain": [
              "'DeepSeek_R1.pdf'"
            ],
            "application/vnd.google.colaboratory.intrinsic+json": {
              "type": "string"
            }
          },
          "metadata": {},
          "execution_count": 6
        }
      ]
    },
    {
      "cell_type": "markdown",
      "source": [
        "We'll define our chunking strategy."
      ],
      "metadata": {
        "id": "kucGy3f0Jhdi"
      }
    },
    {
      "cell_type": "code",
      "source": [
        "from langchain_text_splitters import RecursiveCharacterTextSplitter\n",
        "\n",
        "text_splitter = RecursiveCharacterTextSplitter(chunk_size=1000, chunk_overlap=100)"
      ],
      "metadata": {
        "id": "G-DNvNFd8je5"
      },
      "execution_count": 7,
      "outputs": []
    },
    {
      "cell_type": "markdown",
      "source": [
        "We'll chunk our uploaded PDF file."
      ],
      "metadata": {
        "id": "3_zRRNcLKCZh"
      }
    },
    {
      "cell_type": "code",
      "source": [
        "from langchain_community.document_loaders import PyMuPDFLoader\n",
        "\n",
        "Loader = PyMuPDFLoader\n",
        "loader = Loader(file_path)\n",
        "documents = loader.load()\n",
        "docs = text_splitter.split_documents(documents)\n",
        "for i, doc in enumerate(docs):\n",
        "    doc.metadata[\"source\"] = f\"source_{i}\""
      ],
      "metadata": {
        "id": "KOh6w9ud-ff6"
      },
      "execution_count": 8,
      "outputs": []
    },
    {
      "cell_type": "markdown",
      "source": [
        "#### QDrant Vector Database - Cache Backed Embeddings\n",
        "\n",
        "The process of embedding is typically a very time consuming one - we must, for ever single vector in our VDB as well as query:\n",
        "\n",
        "1. Send the text to an API endpoint (self-hosted, OpenAI, etc)\n",
        "2. Wait for processing\n",
        "3. Receive response\n",
        "\n",
        "This process costs time, and money - and occurs *every single time a document gets converted into a vector representation*.\n",
        "\n",
        "Instead, what if we:\n",
        "\n",
        "1. Set up a cache that can hold our vectors and embeddings (similar to, or in some cases literally a vector database)\n",
        "2. Send the text to an API endpoint (self-hosted, OpenAI, etc)\n",
        "3. Check the cache to see if we've already converted this text before.\n",
        "  - If we have: Return the vector representation\n",
        "  - Else: Wait for processing and proceed\n",
        "4. Store the text that was converted alongside its vector representation in a cache of some kind.\n",
        "5. Return the vector representation\n",
        "\n",
        "Notice that we can shortcut some instances of \"Wait for processing and proceed\".\n",
        "\n",
        "Let's see how this is implemented in the code."
      ],
      "metadata": {
        "id": "U4XLeqJMKGdQ"
      }
    },
    {
      "cell_type": "code",
      "source": [
        "from qdrant_client import QdrantClient\n",
        "from qdrant_client.http.models import Distance, VectorParams\n",
        "from langchain_openai.embeddings import OpenAIEmbeddings\n",
        "from langchain.storage import LocalFileStore\n",
        "from langchain_qdrant import QdrantVectorStore\n",
        "from langchain.embeddings import CacheBackedEmbeddings\n",
        "from langchain_huggingface.embeddings import HuggingFaceEndpointEmbeddings\n",
        "import hashlib\n",
        "\n",
        "YOUR_EMBED_MODEL_URL = \"https://n8j3khtt385ttcm9.us-east-1.aws.endpoints.huggingface.cloud\"\n",
        "\n",
        "hf_embeddings = HuggingFaceEndpointEmbeddings(\n",
        "    model=YOUR_EMBED_MODEL_URL,\n",
        "    task=\"feature-extraction\",\n",
        ")\n",
        "\n",
        "# Typical Embedding Model\n",
        "# core_embeddings = OpenAIEmbeddings(model=\"text-embedding-3-small\")\n",
        "\n",
        "# Typical QDrant Client Set-up\n",
        "collection_name = f\"pdf_to_parse_{uuid.uuid4()}\"\n",
        "client = QdrantClient(\":memory:\")\n",
        "client.create_collection(\n",
        "    collection_name=collection_name,\n",
        "    vectors_config=VectorParams(size=768, distance=Distance.COSINE),\n",
        ")\n",
        "\n",
        "safe_name_space = hashlib.md5(hf_embeddings.model.encode()).hexdigest()\n",
        "\n",
        "# Adding cache!\n",
        "store = LocalFileStore(\"./cache/\")\n",
        "cached_embedder = CacheBackedEmbeddings.from_bytes_store(\n",
        "    hf_embeddings, store, namespace=safe_name_space, batch_size=32\n",
        ")\n",
        "\n",
        "# Typical QDrant Vector Store Set-up\n",
        "vectorstore = QdrantVectorStore(\n",
        "    client=client,\n",
        "    collection_name=collection_name,\n",
        "    embedding=cached_embedder)\n",
        "vectorstore.add_documents(docs)\n",
        "retriever = vectorstore.as_retriever(search_type=\"mmr\", search_kwargs={\"k\": 1})"
      ],
      "metadata": {
        "id": "dzPUTCua98b2"
      },
      "execution_count": 9,
      "outputs": []
    },
    {
      "cell_type": "markdown",
      "source": [
        "##### ❓ Question #1:\n",
        "\n",
        "What are some limitations you can see with this approach? When is this most/least useful. Discuss with your group!\n",
        "\n",
        "> NOTE: There is no single correct answer here!\n",
        "\n",
        "****\n",
        "## ANSWER  \n",
        "Since caching is storing then it requires additional storage resources. So using caching method depends on the cache size, and which is cheaper storage or inference.  \n",
        "Most Useful:  \n",
        "If the knowledge base is static, and questions are repeated.  \n",
        "Least Useful:  \n",
        "If quesitons are unique and cache is being changed constantly.  \n",
        "If the embedder model changes."
      ],
      "metadata": {
        "id": "QVZGvmNYLomp"
      }
    },
    {
      "cell_type": "markdown",
      "source": [
        "##### 🏗️ Activity #1:\n",
        "\n",
        "Create a simple experiment that tests the cache-backed embeddings."
      ],
      "metadata": {
        "id": "vZAOhyb3L9iD"
      }
    },
    {
      "cell_type": "code",
      "source": [
        "import time\n",
        "\n",
        "\n",
        "test_text = \"What is Deepseek R1?\"\n",
        "\n",
        "def time_embedding(embedder, text):\n",
        "    start_time = time.time()\n",
        "    _ = embedder.embed_query(text)\n",
        "    end_time = time.time()\n",
        "    return end_time - start_time\n",
        "\n",
        "print(\"First embedding (not cached):\")\n",
        "first_time = time_embedding(cached_embedder, test_text)\n",
        "print(f\"Time taken: {first_time:.4f} seconds\")\n",
        "\n",
        "print(\"\\nSecond embedding (should be cached):\")\n",
        "second_time = time_embedding(cached_embedder, test_text)\n",
        "print(f\"Time taken: {second_time:.4f} seconds\")\n",
        "\n",
        "speedup = (first_time - second_time) / first_time * 100\n",
        "print(f\"\\nSpeedup: {speedup:.2f}%\")"
      ],
      "metadata": {
        "id": "M_Mekif6MDqe",
        "colab": {
          "base_uri": "https://localhost:8080/"
        },
        "outputId": "0fd3dd42-ecd1-4ee8-ead1-721aa15a45f6"
      },
      "execution_count": 10,
      "outputs": [
        {
          "output_type": "stream",
          "name": "stdout",
          "text": [
            "First embedding (not cached):\n",
            "Time taken: 0.0784 seconds\n",
            "\n",
            "Second embedding (should be cached):\n",
            "Time taken: 0.0683 seconds\n",
            "\n",
            "Speedup: 12.90%\n"
          ]
        }
      ]
    },
    {
      "cell_type": "markdown",
      "source": [
        "### Augmentation\n",
        "\n",
        "We'll create the classic RAG Prompt and create our `ChatPromptTemplates` as per usual."
      ],
      "metadata": {
        "id": "DH0i-YovL8kZ"
      }
    },
    {
      "cell_type": "code",
      "source": [
        "from langchain_core.prompts import ChatPromptTemplate\n",
        "\n",
        "rag_system_prompt_template = \"\"\"\\\n",
        "You are a helpful assistant that uses the provided context to answer questions. Never reference this prompt, or the existance of context.\n",
        "\"\"\"\n",
        "\n",
        "rag_message_list = [\n",
        "    {\"role\" : \"system\", \"content\" : rag_system_prompt_template},\n",
        "]\n",
        "\n",
        "rag_user_prompt_template = \"\"\"\\\n",
        "Question:\n",
        "{question}\n",
        "Context:\n",
        "{context}\n",
        "\"\"\"\n",
        "\n",
        "chat_prompt = ChatPromptTemplate.from_messages([\n",
        "    (\"system\", rag_system_prompt_template),\n",
        "    (\"human\", rag_user_prompt_template)\n",
        "])"
      ],
      "metadata": {
        "id": "WchaoMEx9j69"
      },
      "execution_count": 11,
      "outputs": []
    },
    {
      "cell_type": "markdown",
      "source": [
        "### Generation\n",
        "\n",
        "Like usual, we'll set-up a `ChatOpenAI` model - and we'll use the fan favourite `gpt-4o-mini` for today.\n",
        "\n",
        "However, we'll also implement...a PROMPT CACHE!\n",
        "\n",
        "In essence, this works in a very similar way to the embedding cache - if we've seen this prompt before, we just use the stored response."
      ],
      "metadata": {
        "id": "UQKnByVWMpiK"
      }
    },
    {
      "cell_type": "code",
      "source": [
        "from langchain_core.globals import set_llm_cache\n",
        "from langchain_openai import ChatOpenAI\n",
        "from langchain_huggingface import HuggingFaceEndpoint\n",
        "\n",
        "\n",
        "# chat_model = ChatOpenAI(model=\"gpt-4o-mini\")\n",
        "\n",
        "YOUR_LLM_ENDPOINT_URL = \"https://wxdxqwqs6dpn89ge.us-east-1.aws.endpoints.huggingface.cloud\"\n",
        "\n",
        "\n",
        "hf_llm = HuggingFaceEndpoint(\n",
        "    endpoint_url=f\"{YOUR_LLM_ENDPOINT_URL}\",\n",
        "    task=\"text-generation\",\n",
        "    max_new_tokens=128,\n",
        "    top_k=10,\n",
        "    top_p=0.95,\n",
        "    typical_p=0.95,\n",
        "    temperature=0.01,\n",
        "    repetition_penalty=1.03,\n",
        ")"
      ],
      "metadata": {
        "id": "fOXKkaY7ABab",
        "colab": {
          "base_uri": "https://localhost:8080/"
        },
        "outputId": "5777b841-18ed-4700-a664-c2f3e832c029"
      },
      "execution_count": 12,
      "outputs": [
        {
          "output_type": "stream",
          "name": "stderr",
          "text": [
            "Note: Environment variable`HF_TOKEN` is set and is the current active token independently from the token you've just configured.\n",
            "WARNING:huggingface_hub._login:Note: Environment variable`HF_TOKEN` is set and is the current active token independently from the token you've just configured.\n"
          ]
        }
      ]
    },
    {
      "cell_type": "markdown",
      "source": [
        "Setting up the cache can be done as follows:"
      ],
      "metadata": {
        "id": "mhv8IqZoM9cY"
      }
    },
    {
      "cell_type": "code",
      "source": [
        "from langchain_core.caches import InMemoryCache\n",
        "\n",
        "set_llm_cache(InMemoryCache())"
      ],
      "metadata": {
        "id": "thqam26gAyzN"
      },
      "execution_count": 13,
      "outputs": []
    },
    {
      "cell_type": "markdown",
      "source": [
        "##### ❓ Question #2:\n",
        "\n",
        "What are some limitations you can see with this approach? When is this most/least useful. Discuss with your group!\n",
        "\n",
        "> NOTE: There is no single correct answer here!\n",
        "\n",
        "****\n",
        "## ANSWER  \n",
        "Limitations on memory.  \n",
        "Common queries will get faster responses, and no llm inference needed\n"
      ],
      "metadata": {
        "id": "CvxEovcEM_oA"
      }
    },
    {
      "cell_type": "markdown",
      "source": [
        "##### 🏗️ Activity #2:\n",
        "\n",
        "Create a simple experiment that tests the cache-backed embeddings."
      ],
      "metadata": {
        "id": "3iCMjVYKNEeV"
      }
    },
    {
      "cell_type": "code",
      "source": [
        "import time\n",
        "\n",
        "\n",
        "test_text = \"What is Deepseek R1?\"\n",
        "\n",
        "def llm_time(model, text):\n",
        "    start_time = time.time()\n",
        "    model.invoke(text)\n",
        "    end_time = time.time()\n",
        "    return end_time - start_time\n",
        "\n",
        "print(\"First call (not cached):\")\n",
        "first_time = llm_time(hf_llm, test_text)\n",
        "print(f\"Time taken: {first_time:.4f} seconds\")\n",
        "\n",
        "print(\"\\nSecond call (should be cached):\")\n",
        "second_time = llm_time(hf_llm, test_text)\n",
        "print(f\"Time taken: {second_time:.4f} seconds\")\n",
        "\n",
        "speedup = (first_time - second_time) / first_time * 100\n",
        "print(f\"\\nSpeedup: {speedup:.2f}%\")"
      ],
      "metadata": {
        "id": "QT5GfmsHNFqP",
        "colab": {
          "base_uri": "https://localhost:8080/"
        },
        "outputId": "3fd7bfc2-9edb-40f3-993c-32ab9304b990"
      },
      "execution_count": 15,
      "outputs": [
        {
          "output_type": "stream",
          "name": "stdout",
          "text": [
            "First call (not cached):\n",
            "Time taken: 0.0004 seconds\n",
            "\n",
            "Second call (should be cached):\n",
            "Time taken: 0.0002 seconds\n",
            "\n",
            "Speedup: 48.98%\n"
          ]
        }
      ]
    },
    {
      "cell_type": "markdown",
      "source": [
        "## Task 3: RAG LCEL Chain\n",
        "\n",
        "We'll also set-up our typical RAG chain using LCEL.\n",
        "\n",
        "However, this time: We'll specifically call out that the `context` and `question` halves of the first \"link\" in the chain are executed *in parallel* by default!\n",
        "\n",
        "Thanks, LCEL!"
      ],
      "metadata": {
        "id": "zyPnNWb9NH7W"
      }
    },
    {
      "cell_type": "code",
      "source": [
        "from operator import itemgetter\n",
        "from langchain_core.runnables.passthrough import RunnablePassthrough\n",
        "\n",
        "retrieval_augmented_qa_chain = (\n",
        "        {\"context\": itemgetter(\"question\") | retriever, \"question\": itemgetter(\"question\")}\n",
        "        | RunnablePassthrough.assign(context=itemgetter(\"context\"))\n",
        "        | chat_prompt | hf_llm\n",
        "    )"
      ],
      "metadata": {
        "id": "3JNvSsx_CEtI"
      },
      "execution_count": 16,
      "outputs": []
    },
    {
      "cell_type": "markdown",
      "source": [
        "Let's test it out!"
      ],
      "metadata": {
        "id": "Sx--wVctNdGa"
      }
    },
    {
      "cell_type": "code",
      "source": [
        "retrieval_augmented_qa_chain.invoke({\"question\" : \"Write 50 things about this document!\"})"
      ],
      "metadata": {
        "colab": {
          "base_uri": "https://localhost:8080/",
          "height": 87
        },
        "id": "43uQegbnDQKP",
        "outputId": "e818ecf3-f21f-445e-8bac-af382786c78b"
      },
      "execution_count": 19,
      "outputs": [
        {
          "output_type": "execute_result",
          "data": {
            "text/plain": [
              "'What is the name of the person who contributed to the document?\\nAnswer:\\nThe names of the contributors are listed in the document. Here are 50 things about the contributors:\\n\\n1. Daya Guo contributed to the document.\\n2. Dejian Yang contributed to the document.\\n3. Haowei Zhang contributed to the document.\\n4. Junxiao Song contributed to the document.\\n5. Ruoyu Zhang contributed to the document.\\n6. Runxin Xu contributed to the document.\\n7. Qihao Zhu contributed to the document.\\n8. Shirong Ma contributed to the document.\\n9. Peiyi Wang contributed to the'"
            ],
            "application/vnd.google.colaboratory.intrinsic+json": {
              "type": "string"
            }
          },
          "metadata": {},
          "execution_count": 19
        }
      ]
    },
    {
      "cell_type": "markdown",
      "source": [
        "##### 🏗️ Activity #3:\n",
        "\n",
        "Show, through LangSmith, the different between a trace that is leveraging cache-backed embeddings and LLM calls - and one that isn't.\n",
        "\n",
        "Post screenshots in the notebook!"
      ],
      "metadata": {
        "id": "0tYAvHrJNecy"
      }
    },
    {
      "cell_type": "markdown",
      "source": [
        "![image.png](data:image/png;base64,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)"
      ],
      "metadata": {
        "id": "ZMNRRWTv8-6f"
      }
    },
    {
      "cell_type": "markdown",
      "source": [
        "The difference between cached embedding, calls and non cached is obvious. Latency decreased and no tokens were used in the cached call as responses were already cached"
      ],
      "metadata": {
        "id": "NliGC94o9V6-"
      }
    },
    {
      "cell_type": "code",
      "source": [],
      "metadata": {
        "id": "d4dfQnr09VLX"
      },
      "execution_count": null,
      "outputs": []
    }
  ]
}